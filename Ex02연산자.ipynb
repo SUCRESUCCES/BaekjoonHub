{
  "cells": [
    {
      "cell_type": "markdown",
      "metadata": {
        "id": "view-in-github",
        "colab_type": "text"
      },
      "source": [
        "<a href=\"https://colab.research.google.com/github/SUCRESUCCES/BaekjoonHub/blob/main/Ex02%EC%97%B0%EC%82%B0%EC%9E%90.ipynb\" target=\"_parent\"><img src=\"https://colab.research.google.com/assets/colab-badge.svg\" alt=\"Open In Colab\"/></a>"
      ]
    },
    {
      "cell_type": "markdown",
      "id": "6dec34e2-c5da-4c3a-9ff2-4dbfdac1521a",
      "metadata": {
        "id": "6dec34e2-c5da-4c3a-9ff2-4dbfdac1521a"
      },
      "source": [
        "## 산술연산자\n",
        "- 사칙연산(+,-. *, /) + 몫(//) + 나머지(%)"
      ]
    },
    {
      "cell_type": "code",
      "execution_count": null,
      "id": "ef69a0ae-4e33-499c-8d5e-5f26c11cc12b",
      "metadata": {
        "id": "ef69a0ae-4e33-499c-8d5e-5f26c11cc12b",
        "outputId": "7d8abeb7-0892-4f34-d2f2-fdc0eda2b464"
      },
      "outputs": [
        {
          "name": "stdout",
          "output_type": "stream",
          "text": [
            "나누기 : 1.43\n",
            "몫 : 1\n",
            "나머지 : 3\n"
          ]
        }
      ],
      "source": [
        "# 나누기, 몫, 나머지\n",
        "\n",
        "#변수 선언\n",
        "num1 = 10\n",
        "num2 = 7\n",
        "\n",
        "# 포매팅 사용해서 연산 결과 출력\n",
        "print(f'나누기 : {num1 / num2:.2f}')\n",
        "print(f'몫 : {num1 // num2}')\n",
        "print(f'나머지 : {num1 % num2}')"
      ]
    },
    {
      "cell_type": "code",
      "execution_count": null,
      "id": "8daf84d7-0369-4e5a-93cf-6650e62f5688",
      "metadata": {
        "id": "8daf84d7-0369-4e5a-93cf-6650e62f5688",
        "outputId": "107d794c-2e42-4a00-cc22-fb1831ac5783"
      },
      "outputs": [
        {
          "name": "stdout",
          "output_type": "stream",
          "text": [
            "안녕하세요!\n"
          ]
        }
      ],
      "source": [
        "# 문자열 더하기\n",
        "str1 = \"안녕\"\n",
        "str2 = \"하세요!\"\n",
        "\n",
        "print(str1 + str2)"
      ]
    },
    {
      "cell_type": "code",
      "execution_count": null,
      "id": "20b21842-a90f-42be-bf0b-0915882b20b0",
      "metadata": {
        "id": "20b21842-a90f-42be-bf0b-0915882b20b0",
        "outputId": "97316a9a-d46e-4e20-ca14-c30ff197688d"
      },
      "outputs": [
        {
          "data": {
            "text/plain": [
              "'안녕안녕안녕안녕안녕안녕안녕안녕안녕안녕'"
            ]
          },
          "execution_count": 34,
          "metadata": {},
          "output_type": "execute_result"
        }
      ],
      "source": [
        "# 문자열 곱하기\n",
        "str1 = '안녕'\n",
        "\n",
        "str1 * 10"
      ]
    },
    {
      "cell_type": "code",
      "execution_count": null,
      "id": "8b7a957e-5446-4345-9b74-23c8e01ad9b6",
      "metadata": {
        "id": "8b7a957e-5446-4345-9b74-23c8e01ad9b6",
        "outputId": "43dc27cd-d6d7-47a2-912b-19ef7d71647f"
      },
      "outputs": [
        {
          "name": "stdout",
          "output_type": "stream",
          "text": [
            "107\n"
          ]
        }
      ],
      "source": [
        "# 숫자를 문자열에 넣어서 더해보자!\n",
        "\n",
        "num_str1 = '10'\n",
        "num_str2 = '7'\n",
        "print(num_str1 + num_str2)"
      ]
    },
    {
      "cell_type": "code",
      "execution_count": null,
      "id": "f19892ad-e64d-4c74-8bc4-1fdf7957fdc2",
      "metadata": {
        "id": "f19892ad-e64d-4c74-8bc4-1fdf7957fdc2",
        "outputId": "c33651f9-5f13-496d-b023-fbb7f43597cf"
      },
      "outputs": [
        {
          "name": "stdout",
          "output_type": "stream",
          "text": [
            "<class 'int'>\n",
            "<class 'str'>\n"
          ]
        }
      ],
      "source": [
        "# 문자열이랑 숫자랑 더하면?\n",
        "\n",
        "num1 = 10\n",
        "str1 = \"7\"\n",
        "\n",
        "# print(num1 + str1)\n",
        "\n",
        "print(type(num1))\n",
        "print(type(str1))\n",
        "\n",
        "# 두 변수가 타입이 달라서 더할 수 없습니다.\n",
        "# => 타입을 일치시켜준다.\n",
        "# 형변환"
      ]
    },
    {
      "cell_type": "code",
      "execution_count": null,
      "id": "766f4a05-c84f-4b5f-bdca-0829b910acab",
      "metadata": {
        "id": "766f4a05-c84f-4b5f-bdca-0829b910acab",
        "outputId": "d8aa2f23-842e-44c2-ca9a-c093ba9fa112"
      },
      "outputs": [
        {
          "name": "stdout",
          "output_type": "stream",
          "text": [
            "<class 'int'>\n",
            "17\n"
          ]
        }
      ],
      "source": [
        "#자료형 변환\n",
        "# 1. 두개 다 숫자로!\n",
        "n_str = int(str1)\n",
        "\n",
        "print(type(n_str))\n",
        "\n",
        "print(num1 + n_str)"
      ]
    },
    {
      "cell_type": "code",
      "execution_count": null,
      "id": "7d8c733d-4f73-400e-b235-bc8d471fd1bb",
      "metadata": {
        "id": "7d8c733d-4f73-400e-b235-bc8d471fd1bb",
        "outputId": "eff3db28-e2e8-461a-bce3-0d9763228c44"
      },
      "outputs": [
        {
          "name": "stdout",
          "output_type": "stream",
          "text": [
            "<class 'str'>\n",
            "107\n"
          ]
        }
      ],
      "source": [
        "# 2. 문자열로 변환\n",
        "\n",
        "s_num = str(num1)\n",
        "\n",
        "print(type(s_num))\n",
        "\n",
        "print(s_num + str1)"
      ]
    },
    {
      "cell_type": "markdown",
      "id": "aa5c5c74-8184-4eca-aa0f-f175952e64ef",
      "metadata": {
        "id": "aa5c5c74-8184-4eca-aa0f-f175952e64ef"
      },
      "source": [
        "### input 함수 사용해서 값을 받아 연산하기"
      ]
    },
    {
      "cell_type": "code",
      "execution_count": null,
      "id": "a23509ad-6a06-4b38-a019-aa025d440113",
      "metadata": {
        "id": "a23509ad-6a06-4b38-a019-aa025d440113",
        "outputId": "a8a82be2-d19a-4f15-f962-95c92476239c"
      },
      "outputs": [
        {
          "name": "stdin",
          "output_type": "stream",
          "text": [
            "num1을 입력하세요 >>  12\n",
            "num2을 입력하세요 >>  5\n"
          ]
        },
        {
          "name": "stdout",
          "output_type": "stream",
          "text": [
            "더하기 결과 : 17\n",
            "빼기 결과 : 7\n",
            "곱하기 결과 : 60\n",
            "나누기 결과 : 2.4\n",
            "몫 연산 결과 : 2\n",
            "나머지 연산 결과 : 2\n"
          ]
        }
      ],
      "source": [
        "# num1, num2 값을 키보드로 입력받고\n",
        "# 더하기, 빼기, 곱하기, 나누기, 몫, 나머지 연산의 결과를 출력\n",
        "\n",
        "# 값 입력 받기 -> input\n",
        "# 정수형 형변환이 필요 -> int\n",
        "num1 = int(input('num1을 입력하세요 >> '))\n",
        "num2 = int(input('num2을 입력하세요 >> '))\n",
        "\n",
        "print('더하기 결과 : {}'.format(num1 + num2))\n",
        "print('빼기 결과 : {}'.format(num1 - num2))\n",
        "print('곱하기 결과 : {}'.format(num1 * num2))\n",
        "print('나누기 결과 : {}'.format(num1 / num2))\n",
        "print('몫 연산 결과 : {}'.format(num1 // num2))\n",
        "print('나머지 연산 결과 : {}'.format(num1 % num2))"
      ]
    },
    {
      "cell_type": "markdown",
      "id": "5b824b21-681a-4316-a8cc-731b838ff896",
      "metadata": {
        "id": "5b824b21-681a-4316-a8cc-731b838ff896"
      },
      "source": [
        "## 지수 연산자(**)\n",
        "제곱 연산을 수행"
      ]
    },
    {
      "cell_type": "code",
      "execution_count": null,
      "id": "419083bd-7fc8-4ec4-bf8c-e208c5fef637",
      "metadata": {
        "id": "419083bd-7fc8-4ec4-bf8c-e208c5fef637",
        "outputId": "a5dad5ff-b435-42f6-d4d3-5b33045e6f11"
      },
      "outputs": [
        {
          "data": {
            "text/plain": [
              "8"
            ]
          },
          "execution_count": 4,
          "metadata": {},
          "output_type": "execute_result"
        }
      ],
      "source": [
        "# 2의 3제곱을 연산해보자\n",
        "2 ** 3"
      ]
    },
    {
      "cell_type": "code",
      "execution_count": null,
      "id": "e0b072f6-1c04-4a59-9333-b1b140c77705",
      "metadata": {
        "id": "e0b072f6-1c04-4a59-9333-b1b140c77705",
        "outputId": "7634c8b1-1a86-4844-8e56-c6fb7c442034"
      },
      "outputs": [
        {
          "name": "stdin",
          "output_type": "stream",
          "text": [
            "정수입력 > 2\n",
            "지수 입력>  6\n"
          ]
        },
        {
          "name": "stdout",
          "output_type": "stream",
          "text": [
            "2의 6제곱은 64입니다.\n"
          ]
        }
      ],
      "source": [
        "# 키보드로 입력을 받아 지수연산을 실행해보자 !\n",
        "#1. 정수값 입력받기\n",
        "#2. 지수 값 입력받기\n",
        "\n",
        "# 2의 3승은 8입니다.라고 출력해보자 ! !\n",
        "number = int(input('정수입력 >'))\n",
        "power = int(input('지수 입력> '))\n",
        "print(f'{number}의 {power}제곱은 {number**power}입니다.')"
      ]
    },
    {
      "cell_type": "markdown",
      "id": "c81b5fcc-2f95-401e-a310-6fdcaef3abcb",
      "metadata": {
        "id": "c81b5fcc-2f95-401e-a310-6fdcaef3abcb"
      },
      "source": [
        "## 비교 연산자\n",
        "두 값을 비교하는 연산자 -> True, False반환"
      ]
    },
    {
      "cell_type": "code",
      "execution_count": null,
      "id": "ee2684fd-3153-4328-ac3b-f00a3cd9af0c",
      "metadata": {
        "scrolled": true,
        "id": "ee2684fd-3153-4328-ac3b-f00a3cd9af0c",
        "outputId": "0852a74e-f9f9-48b3-c9bb-cb76faaeca9b"
      },
      "outputs": [
        {
          "name": "stdin",
          "output_type": "stream",
          "text": [
            "num1을 입력하세요 >>  1\n",
            "num2을 입력하세요 >>  2\n"
          ]
        },
        {
          "name": "stdout",
          "output_type": "stream",
          "text": [
            "num1 < num2 ? True\n",
            "num1 <= num2 ? True\n",
            "num1 >= num2 ? False\n",
            "num1 > num2 ? False\n",
            "num1 == num2 ? False\n",
            "num1 != num2 ? True\n"
          ]
        }
      ],
      "source": [
        "num1 = int(input('num1을 입력하세요 >> '))\n",
        "num2 = int(input('num2을 입력하세요 >> '))\n",
        "\n",
        "print(f\"num1 < num2 ? {num1 < num2}\")\n",
        "print(f\"num1 <= num2 ? {num1 <= num2}\")\n",
        "print(f\"num1 >= num2 ? {num1 >= num2}\")\n",
        "print(f\"num1 > num2 ? {num1 > num2}\")\n",
        "print(f\"num1 == num2 ? {num1 == num2}\")\n",
        "print(f\"num1 != num2 ? {num1 != num2}\")"
      ]
    },
    {
      "cell_type": "markdown",
      "id": "ed9a1693-94eb-4051-ad0f-68456c6242f4",
      "metadata": {
        "id": "ed9a1693-94eb-4051-ad0f-68456c6242f4"
      },
      "source": [
        "### 지난시간 숙제 같이 풀어보기!"
      ]
    },
    {
      "cell_type": "markdown",
      "id": "2c88e975-298e-43f5-90ab-fd695f8f6e01",
      "metadata": {
        "id": "2c88e975-298e-43f5-90ab-fd695f8f6e01"
      },
      "source": [
        "![image.png](attachment:17466f9a-93d9-4242-a806-9a6ef2b53a70.png)"
      ]
    },
    {
      "cell_type": "code",
      "execution_count": null,
      "id": "d4b2c4fd-c8af-4ef1-aae8-a112acfe1f8b",
      "metadata": {
        "id": "d4b2c4fd-c8af-4ef1-aae8-a112acfe1f8b"
      },
      "outputs": [],
      "source": [
        "p = int(input(\"python 점수 입력 >> \"))\n",
        "m = int(input(\"머신러닝 점수 입력 >>\"))\n",
        "d = int(input(\"딥러닝 점수 입력 >> \"))\n",
        "\n",
        "total_score = p + m + d # 합계 -> 합계를 3으로 나누면 평균\n",
        "\n",
        "print(\"합계 : {}\".format())"
      ]
    },
    {
      "cell_type": "markdown",
      "id": "f210c63e-dc50-4bb8-9e9d-1e294c4d05ca",
      "metadata": {
        "id": "f210c63e-dc50-4bb8-9e9d-1e294c4d05ca"
      },
      "source": [
        "![image.png](attachment:750f4201-5cb1-49b0-90c3-e24ff3cbd6cd.png)"
      ]
    },
    {
      "cell_type": "code",
      "execution_count": null,
      "id": "42d700d0-475e-44ce-b81c-0415d606938b",
      "metadata": {
        "id": "42d700d0-475e-44ce-b81c-0415d606938b",
        "outputId": "35b642f9-cab7-485b-ff75-3ddad7728305"
      },
      "outputs": [
        {
          "name": "stdin",
          "output_type": "stream",
          "text": [
            "시간 입력 >>  7533\n"
          ]
        },
        {
          "name": "stdout",
          "output_type": "stream",
          "text": [
            "2시간 5분 33초\n"
          ]
        }
      ],
      "source": [
        "time = int(input(\"시간 입력 >> \"))\n",
        "# 1시간 60분, 1분이 60초 -> 1시간은 몇초 ?  3600\n",
        "# 초를 3600으로 나눈 몫이 시간!\n",
        "# 초를 3600으로 나눈 나머지를 사용해서 분을 계산\n",
        "hour = time // 3600\n",
        "time = time % 3600\n",
        "minute = time // 60\n",
        "second = time % 60\n",
        "print(\"{}시간 {}분 {}초\".format(hour, minute, second))"
      ]
    },
    {
      "cell_type": "markdown",
      "id": "781b1500-147f-441a-ab52-7b3ce543f686",
      "metadata": {
        "id": "781b1500-147f-441a-ab52-7b3ce543f686"
      },
      "source": [
        "## 대입(복합)연산자"
      ]
    },
    {
      "cell_type": "code",
      "execution_count": null,
      "id": "7506ecb0-7143-44c9-a740-0a161d787001",
      "metadata": {
        "id": "7506ecb0-7143-44c9-a740-0a161d787001",
        "outputId": "aea45de5-4f67-40ea-fe4f-9c5c7f79dd2f"
      },
      "outputs": [
        {
          "name": "stdout",
          "output_type": "stream",
          "text": [
            "27\n",
            "30\n"
          ]
        }
      ],
      "source": [
        "# 더하면서 대입하는 거 -> +=\n",
        "num = 27\n",
        "print(num)\n",
        "\n",
        "num += 3  # num = num + 3\n",
        "print(num)"
      ]
    },
    {
      "cell_type": "code",
      "execution_count": null,
      "id": "6b23d47c-c49a-41f4-b54e-def7baad0782",
      "metadata": {
        "id": "6b23d47c-c49a-41f4-b54e-def7baad0782",
        "outputId": "53d4d821-818b-4009-da6e-eab524cffa53"
      },
      "outputs": [
        {
          "name": "stdout",
          "output_type": "stream",
          "text": [
            "100\n",
            "60\n"
          ]
        }
      ],
      "source": [
        "# 빼면서 대입하기 -> -=\n",
        "num = 100\n",
        "print(num)\n",
        "\n",
        "# num = num - 40\n",
        "num -= 40\n",
        "print(num)"
      ]
    },
    {
      "cell_type": "code",
      "execution_count": null,
      "id": "48f2e836-338e-4383-ae24-6bdeadabdef1",
      "metadata": {
        "id": "48f2e836-338e-4383-ae24-6bdeadabdef1",
        "outputId": "0b1123ca-dfc8-4704-9443-64600f776700"
      },
      "outputs": [
        {
          "name": "stdout",
          "output_type": "stream",
          "text": [
            "10\n",
            "100\n",
            "1000\n"
          ]
        }
      ],
      "source": [
        "# 곱하면서 대입\n",
        "num = 10\n",
        "print(num)\n",
        "\n",
        "num *= 10\n",
        "print(num)\n",
        "\n",
        "num *= 10 # num = num * 10\n",
        "print(num)"
      ]
    },
    {
      "cell_type": "markdown",
      "id": "7ffc61e1-06d5-4af5-bb6d-1f931a65da1c",
      "metadata": {
        "id": "7ffc61e1-06d5-4af5-bb6d-1f931a65da1c"
      },
      "source": [
        "## 교환\n",
        ": 서로 바꾸다"
      ]
    },
    {
      "cell_type": "code",
      "execution_count": null,
      "id": "c4583a1b-c2ad-4071-b0b8-e4226da7a25f",
      "metadata": {
        "id": "c4583a1b-c2ad-4071-b0b8-e4226da7a25f",
        "outputId": "a717cbcf-35fc-4836-bc52-0cf406739f32"
      },
      "outputs": [
        {
          "name": "stdout",
          "output_type": "stream",
          "text": [
            "3 7\n",
            "7 3\n"
          ]
        }
      ],
      "source": [
        "a = 3\n",
        "b = 7\n",
        "print(a, b)\n",
        "\n",
        "temp = a\n",
        "a = b\n",
        "b = temp\n",
        "\n",
        "print(a, b)"
      ]
    },
    {
      "cell_type": "code",
      "execution_count": null,
      "id": "f4152ed8-0581-4aa4-b202-28079b47fbed",
      "metadata": {
        "id": "f4152ed8-0581-4aa4-b202-28079b47fbed",
        "outputId": "85d7101f-8f4d-43a2-c3b5-d6cc59bc83a3"
      },
      "outputs": [
        {
          "name": "stdout",
          "output_type": "stream",
          "text": [
            "3 7\n",
            "7 3\n"
          ]
        }
      ],
      "source": [
        "a = 3\n",
        "b = 7\n",
        "\n",
        "print(a, b)\n",
        "\n",
        "a, b = b, a\n",
        "print(a, b)"
      ]
    },
    {
      "cell_type": "markdown",
      "id": "23f144e3-5379-4d37-999d-bc1362054318",
      "metadata": {
        "id": "23f144e3-5379-4d37-999d-bc1362054318"
      },
      "source": [
        "### 삼항 연산자\n",
        "\n",
        "A if 조건식 else B\n",
        "\n",
        "조건에 따라 다른 값을 반환하는 연산자"
      ]
    },
    {
      "cell_type": "code",
      "execution_count": null,
      "id": "d724a2de-67b5-4ec6-b602-0fe62276d4b6",
      "metadata": {
        "id": "d724a2de-67b5-4ec6-b602-0fe62276d4b6",
        "outputId": "ca346de0-27c6-4ac0-f23a-9e9d4cb6edec"
      },
      "outputs": [
        {
          "name": "stdin",
          "output_type": "stream",
          "text": [
            "정수 입력>> 3\n",
            "정수 입력>> 10\n"
          ]
        },
        {
          "name": "stdout",
          "output_type": "stream",
          "text": [
            "<class 'int'>\n",
            "<class 'int'>\n",
            "b : 10\n"
          ]
        }
      ],
      "source": [
        "# 키보드로 두 개의 정수를 입력받아 두 정수 중 큰수를 출력하시오\n",
        "\n",
        "# 입력 받기\n",
        "a = int(input('정수 입력>>'))\n",
        "b = int(input('정수 입력>>'))\n",
        "\n",
        "# 타입 확인\n",
        "print(type(a))\n",
        "print(type(b))\n",
        "\n",
        "# 두 수 중에 큰 수 출력하기\n",
        "\n",
        "# 비교 연산자 사용해서 조건식 만들어주기\n",
        "print(f'a : {a}') if a > b else print(f'b : {b}')"
      ]
    },
    {
      "cell_type": "code",
      "execution_count": null,
      "id": "02dd2b01-77c8-4820-af24-dd54d3205f97",
      "metadata": {
        "id": "02dd2b01-77c8-4820-af24-dd54d3205f97",
        "outputId": "74f5294c-6417-454e-adf2-cc464fa22666"
      },
      "outputs": [
        {
          "name": "stdin",
          "output_type": "stream",
          "text": [
            "첫번째 정수 입력 >>  5\n",
            "두번째 정수 입력 >>  10\n"
          ]
        },
        {
          "name": "stdout",
          "output_type": "stream",
          "text": [
            "두 수의 차 : 5\n",
            "두 수의 차 : 5\n"
          ]
        }
      ],
      "source": [
        "# 키보드로 두개의 정수를 입력받아 큰수에서 작은 수를 뺀 결과값을 출력\n",
        "\n",
        "a = int(input('첫번째 정수 입력 >> ' ))\n",
        "b = int(input('두번째 정수 입력 >> '))\n",
        "\n",
        "# 큰수에서 작을수를 뺀 결과값을 출력\n",
        "\n",
        "print('두 수의 차 :', a - b if a > b else b - a)\n",
        "print(f'두 수의 차 : {a - b if a > b else b - a}')"
      ]
    },
    {
      "cell_type": "code",
      "execution_count": null,
      "id": "6ffb0752-d709-4991-880e-73266721bfd2",
      "metadata": {
        "id": "6ffb0752-d709-4991-880e-73266721bfd2",
        "outputId": "9e247a3a-0c15-4295-8369-276f284f4632"
      },
      "outputs": [
        {
          "name": "stdin",
          "output_type": "stream",
          "text": [
            "정수 입력 >>  33\n"
          ]
        },
        {
          "name": "stdout",
          "output_type": "stream",
          "text": [
            "33는(은) 홀수입니다\n"
          ]
        }
      ],
      "source": [
        "# 키보드로 정수를 입력 받아 홀수인지 짝수인지 판별하시오\n",
        "a = int(input(\"정수 입력 >> \"))\n",
        "\n",
        "# 2로 나누어 떨어진다 -> 2로 나눈 나머지 값이 0\n",
        "\n",
        "print(f'{a}는(은) {'짝수' if a % 2 == 0 else '홀수'}입니다')"
      ]
    },
    {
      "cell_type": "code",
      "execution_count": null,
      "id": "4a3c72d9-1cfd-4345-b8d7-7f0a3d6450ed",
      "metadata": {
        "id": "4a3c72d9-1cfd-4345-b8d7-7f0a3d6450ed",
        "outputId": "0ee1c36d-b582-4fac-b357-b4c545db7d56"
      },
      "outputs": [
        {
          "name": "stdin",
          "output_type": "stream",
          "text": [
            "나이를 입력하세요 >>  21\n"
          ]
        },
        {
          "name": "stdout",
          "output_type": "stream",
          "text": [
            "성인입니다\n"
          ]
        }
      ],
      "source": [
        "age = int(input(\"나이를 입력하세요 >> \"))\n",
        "print(f'{'성인' if age >= 20 else '청소년'}입니다')"
      ]
    },
    {
      "cell_type": "code",
      "execution_count": null,
      "id": "7035963d-0616-45c7-9be6-d3430d7f0184",
      "metadata": {
        "id": "7035963d-0616-45c7-9be6-d3430d7f0184",
        "outputId": "c59c8979-6f39-43c9-a50d-48ac26dca2a4"
      },
      "outputs": [
        {
          "name": "stdin",
          "output_type": "stream",
          "text": [
            "점수를 입력하세요 >>  55\n"
          ]
        },
        {
          "name": "stdout",
          "output_type": "stream",
          "text": [
            "결과 : Fail\n"
          ]
        }
      ],
      "source": [
        "score = int(input(\"점수를 입력하세요 >> \"))\n",
        "print(f'결과 : {'Pass' if score >= 60 else 'Fail'}')"
      ]
    },
    {
      "cell_type": "code",
      "execution_count": null,
      "id": "eee1cab9-7040-4c37-bb36-2bf3a793818a",
      "metadata": {
        "id": "eee1cab9-7040-4c37-bb36-2bf3a793818a"
      },
      "outputs": [],
      "source": []
    }
  ],
  "metadata": {
    "kernelspec": {
      "display_name": "Python [conda env:base] *",
      "language": "python",
      "name": "conda-base-py"
    },
    "language_info": {
      "codemirror_mode": {
        "name": "ipython",
        "version": 3
      },
      "file_extension": ".py",
      "mimetype": "text/x-python",
      "name": "python",
      "nbconvert_exporter": "python",
      "pygments_lexer": "ipython3",
      "version": "3.12.7"
    },
    "colab": {
      "provenance": [],
      "include_colab_link": true
    }
  },
  "nbformat": 4,
  "nbformat_minor": 5
}